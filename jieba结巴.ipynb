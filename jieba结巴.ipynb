{
 "cells": [
  {
   "cell_type": "code",
   "execution_count": 15,
   "metadata": {},
   "outputs": [],
   "source": [
    "# encoding=utf-8\n",
    "import jieba"
   ]
  },
  {
   "cell_type": "code",
   "execution_count": 16,
   "metadata": {},
   "outputs": [
    {
     "name": "stdout",
     "output_type": "stream",
     "text": [
      "Full Mode: 我/来到/北京/清华/清华大学/华大/大学\n",
      "<generator object Tokenizer.cut at 0x000001175A28F570>\n"
     ]
    }
   ],
   "source": [
    "seg_list1=jieba.cut(\"我来到北京清华大学\",cut_all=True)\n",
    "print('Full Mode: '+'/'.join(seg_list1)) #全模式\n",
    "print(seg_list)"
   ]
  },
  {
   "cell_type": "code",
   "execution_count": 17,
   "metadata": {},
   "outputs": [
    {
     "name": "stdout",
     "output_type": "stream",
     "text": [
      "Full Mode: 我/来到/北京/清华大学\n"
     ]
    }
   ],
   "source": [
    "seg_list2=jieba.cut(\"我来到北京清华大学\",cut_all=False)\n",
    "print('Full Mode: '+'/'.join(seg_list2))  #精确模式"
   ]
  },
  {
   "cell_type": "code",
   "execution_count": 20,
   "metadata": {},
   "outputs": [
    {
     "name": "stdout",
     "output_type": "stream",
     "text": [
      "Full Mode: 我，来到，北京，清华大学\n"
     ]
    }
   ],
   "source": [
    "seg_list4=jieba.cut(\"我来到北京清华大学\")\n",
    "print('Full Mode: '+'，'.join(seg_list4))  #默认精确模式"
   ]
  },
  {
   "cell_type": "code",
   "execution_count": 18,
   "metadata": {},
   "outputs": [
    {
     "name": "stdout",
     "output_type": "stream",
     "text": [
      "Full Mode: 我/来到/北京/清华/华大/大学/清华大学\n"
     ]
    }
   ],
   "source": [
    "seg_list3=jieba.cut_for_search(\"我来到北京清华大学\")\n",
    "print('Full Mode: '+'/'.join(seg_list3)) #搜索引擎模式"
   ]
  },
  {
   "cell_type": "code",
   "execution_count": 21,
   "metadata": {},
   "outputs": [
    {
     "name": "stdout",
     "output_type": "stream",
     "text": [
      "Full Mode: 我，来到，北京，清华大学\n",
      "['我', '来到', '北京', '清华大学']\n"
     ]
    }
   ],
   "source": [
    "seg_list5=jieba.lcut(\"我来到北京清华大学\")\n",
    "print('Full Mode: '+'，'.join(seg_list5))  #默认精确模式\n",
    "print(seg_list5)"
   ]
  },
  {
   "cell_type": "code",
   "execution_count": null,
   "metadata": {},
   "outputs": [],
   "source": [
    "#自定义词典\n",
    "jieba.load_userdict(file_name) # file_name 为文件类对象或自定义词典的路径"
   ]
  }
 ],
 "metadata": {
  "kernelspec": {
   "display_name": "Python 3",
   "language": "python",
   "name": "python3"
  },
  "language_info": {
   "codemirror_mode": {
    "name": "ipython",
    "version": 3
   },
   "file_extension": ".py",
   "mimetype": "text/x-python",
   "name": "python",
   "nbconvert_exporter": "python",
   "pygments_lexer": "ipython3",
   "version": "3.7.3"
  }
 },
 "nbformat": 4,
 "nbformat_minor": 2
}
